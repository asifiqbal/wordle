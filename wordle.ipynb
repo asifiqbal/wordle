{
 "cells": [
  {
   "cell_type": "markdown",
   "id": "8b871b88",
   "metadata": {},
   "source": [
    "# Fixed Input"
   ]
  },
  {
   "cell_type": "markdown",
   "id": "431c3027",
   "metadata": {},
   "source": [
    "#### Get all the possible 5 letter words from your computer. I am using mac. On linux and windows these words will reside some where else. (google is your friend)"
   ]
  },
  {
   "cell_type": "code",
   "execution_count": 3,
   "id": "a08210ee",
   "metadata": {},
   "outputs": [],
   "source": [
    "with open('/usr/share/dict/words') as f:\n",
    "    words = { word.upper() for word in f.read().split() if len(word) == 5 }"
   ]
  },
  {
   "cell_type": "markdown",
   "id": "e0b50d90",
   "metadata": {},
   "source": [
    "#### Pick first two words that cover all the vowels"
   ]
  },
  {
   "cell_type": "code",
   "execution_count": 4,
   "id": "2df29777",
   "metadata": {},
   "outputs": [],
   "source": [
    "firstword = 'RAISE'\n",
    "secondword = 'MOUNT'"
   ]
  },
  {
   "cell_type": "markdown",
   "id": "e43d8e1a",
   "metadata": {},
   "source": [
    "# Variable Input (*changes everyday based on the word of the day*)"
   ]
  },
  {
   "cell_type": "markdown",
   "id": "3af048e7",
   "metadata": {},
   "source": [
    "#### Collect all the yellow and gray letters. It will vary depending on the word of the day"
   ]
  },
  {
   "cell_type": "code",
   "execution_count": 5,
   "id": "dc993e14",
   "metadata": {},
   "outputs": [],
   "source": [
    "grayletters = [x for x in 'MAUSET']\n",
    "yellowletters = [x for x in 'IN']"
   ]
  },
  {
   "cell_type": "markdown",
   "id": "cb6e7d5d",
   "metadata": {},
   "source": [
    "#### Match all the words that has the yellow letters and make sure not in wrong position and drop out all the words that has any of the gray letters "
   ]
  },
  {
   "cell_type": "code",
   "execution_count": 6,
   "id": "405868e6",
   "metadata": {},
   "outputs": [],
   "source": [
    "words = [l for l in words if 'R' == l[0] \n",
    "         and 'O' == l[1] and 'I' != l[2] and 'N' != l[3] \n",
    "         and all(x in l for x in yellowletters) \n",
    "         and not any(x in l for x in grayletters)]"
   ]
  },
  {
   "cell_type": "markdown",
   "id": "5b03ba7e",
   "metadata": {},
   "source": [
    "#### Now print out all the words that matched the previous criteria and if you are lucky you won't have too many left to pick from. Good luck! (02/13/2022)"
   ]
  },
  {
   "cell_type": "code",
   "execution_count": 1,
   "id": "4fd842e8",
   "metadata": {},
   "outputs": [],
   "source": [
    "# print(words)"
   ]
  }
 ],
 "metadata": {
  "kernelspec": {
   "display_name": "Python 3 (ipykernel)",
   "language": "python",
   "name": "python3"
  },
  "language_info": {
   "codemirror_mode": {
    "name": "ipython",
    "version": 3
   },
   "file_extension": ".py",
   "mimetype": "text/x-python",
   "name": "python",
   "nbconvert_exporter": "python",
   "pygments_lexer": "ipython3",
   "version": "3.8.9"
  }
 },
 "nbformat": 4,
 "nbformat_minor": 5
}
