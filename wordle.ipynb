{
 "cells": [
  {
   "cell_type": "markdown",
   "id": "431c3027",
   "metadata": {},
   "source": [
    "#### Get all the possible 5 letter words from python nltk library"
   ]
  },
  {
   "cell_type": "markdown",
   "id": "2718b972",
   "metadata": {},
   "source": [
    "## https://en.wikipedia.org/wiki/Natural_Language_Toolkit has all the English words\n",
    "\n",
    "##### You may have to uncomment the following 3 lines for the code to work "
   ]
  },
  {
   "cell_type": "code",
   "execution_count": null,
   "id": "4ba33fd3",
   "metadata": {},
   "outputs": [],
   "source": [
    "# !pip install nltk\n",
    "# import nltk\n",
    "# nltk.download('words')"
   ]
  },
  {
   "cell_type": "code",
   "execution_count": null,
   "id": "5a2b92a4",
   "metadata": {},
   "outputs": [],
   "source": [
    "from nltk.corpus import words\n",
    "words = { word.upper() for word in words.words() if len(word) == 5}"
   ]
  },
  {
   "cell_type": "markdown",
   "id": "a1c6742a",
   "metadata": {},
   "source": [
    "# Fixed Input"
   ]
  },
  {
   "cell_type": "markdown",
   "id": "e0b50d90",
   "metadata": {},
   "source": [
    "#### Pick first two words that cover all the vowels. I always use the following two. Your mileage may vary"
   ]
  },
  {
   "cell_type": "code",
   "execution_count": null,
   "id": "2df29777",
   "metadata": {},
   "outputs": [],
   "source": [
    "firstword = 'RAISE'\n",
    "secondword = 'MOUNT'"
   ]
  },
  {
   "cell_type": "markdown",
   "id": "e43d8e1a",
   "metadata": {},
   "source": [
    "# Variable Input (*changes everyday based on the word of the day*)"
   ]
  },
  {
   "cell_type": "markdown",
   "id": "3af048e7",
   "metadata": {},
   "source": [
    "#### Collect all the yellow and gray letters. It will vary depending on the word of the day. You may have to update this and run it again with additional new yellow and gray letters until you get the correct word"
   ]
  },
  {
   "cell_type": "code",
   "execution_count": null,
   "id": "dc993e14",
   "metadata": {},
   "outputs": [],
   "source": [
    "grayletters = [x for x in 'MAUSET']\n",
    "yellowletters = [x for x in 'IN']"
   ]
  },
  {
   "cell_type": "markdown",
   "id": "cb6e7d5d",
   "metadata": {},
   "source": [
    "#### Match all the words that has the yellow letters and make sure not in wrong position and drop out all the words that has any of the gray letters, using one of the two methods. You may have to run it again with additional new yellow, green and gray letters until you get the correct word. I would stick with *method 1* until I get comfortable with the logic"
   ]
  },
  {
   "cell_type": "markdown",
   "id": "ae2ca238",
   "metadata": {},
   "source": [
    "#### method 1: using simple comparison and no other module"
   ]
  },
  {
   "cell_type": "code",
   "execution_count": null,
   "id": "405868e6",
   "metadata": {},
   "outputs": [],
   "source": [
    "words = [l for l in words if l[0] == 'R' \n",
    "         and l[1] == 'O' and l[2] != 'I' and l[3] != 'N' \n",
    "         and all(x in l for x in yellowletters) \n",
    "         and not any(x in l for x in grayletters)]"
   ]
  },
  {
   "cell_type": "markdown",
   "id": "a9a62911",
   "metadata": {},
   "source": [
    "#### method 2: more concise using *re* module"
   ]
  },
  {
   "cell_type": "code",
   "execution_count": null,
   "id": "08fcc592",
   "metadata": {},
   "outputs": [],
   "source": [
    "import re\n",
    "words = [l for l in words if re.match(r'RO[^I][^N]', l)\n",
    "         and all(x in l for x in yellowletters) \n",
    "         and not any(x in l for x in grayletters)]"
   ]
  },
  {
   "cell_type": "markdown",
   "id": "5b03ba7e",
   "metadata": {},
   "source": [
    "#### Now print out all the words that matched the previous criteria and if you are lucky you won't have too many left to pick from. Good luck! (02/13/2022)"
   ]
  },
  {
   "cell_type": "code",
   "execution_count": null,
   "id": "4fd842e8",
   "metadata": {},
   "outputs": [],
   "source": [
    "# print(words)"
   ]
  }
 ],
 "metadata": {
  "kernelspec": {
   "display_name": "Python 3 (ipykernel)",
   "language": "python",
   "name": "python3"
  },
  "language_info": {
   "codemirror_mode": {
    "name": "ipython",
    "version": 3
   },
   "file_extension": ".py",
   "mimetype": "text/x-python",
   "name": "python",
   "nbconvert_exporter": "python",
   "pygments_lexer": "ipython3",
   "version": "3.8.9"
  }
 },
 "nbformat": 4,
 "nbformat_minor": 5
}
